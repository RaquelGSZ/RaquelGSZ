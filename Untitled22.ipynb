{
  "nbformat": 4,
  "nbformat_minor": 0,
  "metadata": {
    "colab": {
      "provenance": [],
      "authorship_tag": "ABX9TyMlKRtDeEEoBIk+vjBljc2U",
      "include_colab_link": true
    },
    "kernelspec": {
      "name": "python3",
      "display_name": "Python 3"
    },
    "language_info": {
      "name": "python"
    }
  },
  "cells": [
    {
      "cell_type": "markdown",
      "metadata": {
        "id": "view-in-github",
        "colab_type": "text"
      },
      "source": [
        "<a href=\"https://colab.research.google.com/github/RaquelGSZ/RaquelGSZ/blob/main/Untitled22.ipynb\" target=\"_parent\"><img src=\"https://colab.research.google.com/assets/colab-badge.svg\" alt=\"Open In Colab\"/></a>"
      ]
    },
    {
      "cell_type": "code",
      "execution_count": 5,
      "metadata": {
        "colab": {
          "base_uri": "https://localhost:8080/"
        },
        "id": "1-cRiU7GeY4d",
        "outputId": "20655dd3-d52c-49b3-e305-dffc33412c9e"
      },
      "outputs": [
        {
          "output_type": "stream",
          "name": "stdout",
          "text": [
            "Tabela hash vazia:\n",
            "Posição 0: Vazio\n",
            "Posição 1: Vazio\n",
            "Posição 2: Vazio\n",
            "Posição 3: Vazio\n",
            "Posição 4: Vazio\n",
            "Posição 5: Vazio\n",
            "Posição 6: Vazio\n",
            "Posição 7: Vazio\n",
            "Posição 8: Vazio\n",
            "Posição 9: Vazio\n",
            "\n",
            "Tabela hash após inserção dos estados e DF:\n",
            "Posição 0: SC -> RN -> MS -> GO\n",
            "Posição 1: RO -> MT -> BA -> AL\n",
            "Posição 2: SE -> PR -> MA -> ES -> AM -> AC\n",
            "Posição 3: TO -> SP -> PI\n",
            "Posição 4: RR\n",
            "Posição 5: RS -> PA -> AP\n",
            "Posição 6: RJ -> PB -> CE\n",
            "Posição 7: DF\n",
            "Posição 8: MG\n",
            "Posição 9: PE\n",
            "\n",
            "Tabela hash após inserção dos estados, DF e estado fictício:\n",
            "Posição 0: SC -> RN -> MS -> GO\n",
            "Posição 1: RO -> MT -> BA -> AL\n",
            "Posição 2: RZ -> SE -> PR -> MA -> ES -> AM -> AC\n",
            "Posição 3: TO -> SP -> PI\n",
            "Posição 4: RR\n",
            "Posição 5: RS -> PA -> AP\n",
            "Posição 6: RJ -> PB -> CE\n",
            "Posição 7: DF\n",
            "Posição 8: MG\n",
            "Posição 9: PE\n"
          ]
        }
      ],
      "source": [
        "# Classe que representa um nó da lista encadeada (Estado)\n",
        "class Estado:\n",
        "    def __init__(self, sigla, nome):\n",
        "        self.sigla = sigla\n",
        "        self.nome = nome\n",
        "        self.proximo = None  # Ponteiro para o próximo nó\n",
        "\n",
        "\n",
        "# Classe que representa a Tabela Hash\n",
        "class TabelaHash:\n",
        "    def __init__(self):\n",
        "        # Exigência 1: Inicialmente todas as posições possuem valor None\n",
        "        self.tabela = [None] * 10\n",
        "\n",
        "    # Exigência 5: Função hash conforme especificado\n",
        "    def funcao_hash(self, sigla):\n",
        "        if sigla.upper() == \"DF\":\n",
        "            return 7\n",
        "        else:\n",
        "            return (ord(sigla[0]) + ord(sigla[1])) % 10\n",
        "\n",
        "    # Exigência 3: Inserção no início da lista encadeada\n",
        "    def inserir(self, sigla, nome):\n",
        "        posicao = self.funcao_hash(sigla)\n",
        "        novo_estado = Estado(sigla, nome)\n",
        "        novo_estado.proximo = self.tabela[posicao]\n",
        "        self.tabela[posicao] = novo_estado\n",
        "\n",
        "    # Exigência 4: Impressão da tabela hash\n",
        "    def imprimir(self):\n",
        "        for i in range(10):\n",
        "            print(f\"Posição {i}:\", end=\" \")\n",
        "            atual = self.tabela[i]\n",
        "            if not atual:\n",
        "                print(\"Vazio\")\n",
        "            else:\n",
        "                while atual:\n",
        "                    print(atual.sigla, end=\" -> \" if atual.proximo else \"\")\n",
        "                    atual = atual.proximo\n",
        "                print()\n",
        "\n",
        "\n",
        "# Lista de todos os 26 estados + DF\n",
        "# Exigência 6\n",
        "estados = [\n",
        "    (\"AC\", \"Acre\"), (\"AL\", \"Alagoas\"), (\"AP\", \"Amapá\"), (\"AM\", \"Amazonas\"), (\"BA\", \"Bahia\"),\n",
        "    (\"CE\", \"Ceará\"), (\"DF\", \"Distrito Federal\"), (\"ES\", \"Espírito Santo\"), (\"GO\", \"Goiás\"),\n",
        "    (\"MA\", \"Maranhão\"), (\"MT\", \"Mato Grosso\"), (\"MS\", \"Mato Grosso do Sul\"), (\"MG\", \"Minas Gerais\"),\n",
        "    (\"PA\", \"Pará\"), (\"PB\", \"Paraíba\"), (\"PR\", \"Paraná\"), (\"PE\", \"Pernambuco\"), (\"PI\", \"Piauí\"),\n",
        "    (\"RJ\", \"Rio de Janeiro\"), (\"RN\", \"Rio Grande do Norte\"), (\"RS\", \"Rio Grande do Sul\"),\n",
        "    (\"RO\", \"Rondônia\"), (\"RR\", \"Roraima\"), (\"SC\", \"Santa Catarina\"), (\"SP\", \"São Paulo\"),\n",
        "    (\"SE\", \"Sergipe\"), (\"TO\", \"Tocantins\")\n",
        "]\n",
        "\n",
        "# Exigência 7: Estado fictício - Raquel GSZ → sigla \"RZ\"\n",
        "estado_ficticio = (\"RZ\", \"Raquel GSZ\")\n",
        "\n",
        "\n",
        "# Criando a tabela hash\n",
        "tabela = TabelaHash()\n",
        "\n",
        "# Exigência de Saída 1: Impressão antes de inserir qualquer estado\n",
        "print(\"Tabela hash vazia:\")\n",
        "tabela.imprimir()\n",
        "\n",
        "# Inserindo os estados reais e o DF\n",
        "for sigla, nome in estados:\n",
        "    tabela.inserir(sigla, nome)\n",
        "\n",
        "# Exigência de Saída 2: Impressão após inserir os 27 estados (incluindo DF)\n",
        "print(\"\\nTabela hash após inserção dos estados e DF:\")\n",
        "tabela.imprimir()\n",
        "\n",
        "# Inserindo estado fictício: Raquel GSZ - RZ\n",
        "tabela.inserir(estado_ficticio[0], estado_ficticio[1])\n",
        "\n",
        "# Exigência de Saída 3: Impressão após inserir estado fictício\n",
        "print(\"\\nTabela hash após inserção dos estados, DF e estado fictício:\")\n",
        "tabela.imprimir()"
      ]
    }
  ]
}